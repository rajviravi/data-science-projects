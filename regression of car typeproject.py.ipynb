{
 "cells": [
  {
   "cell_type": "code",
   "execution_count": 1,
   "id": "378a66df",
   "metadata": {},
   "outputs": [],
   "source": [
    "import pandas as pd\n",
    "A =pd.read_csv(\"/users/ravi/Desktop/Datasets/Cars93.csv\")"
   ]
  },
  {
   "cell_type": "code",
   "execution_count": 2,
   "id": "30aa1cc7",
   "metadata": {},
   "outputs": [
    {
     "data": {
      "text/html": [
       "<div>\n",
       "<style scoped>\n",
       "    .dataframe tbody tr th:only-of-type {\n",
       "        vertical-align: middle;\n",
       "    }\n",
       "\n",
       "    .dataframe tbody tr th {\n",
       "        vertical-align: top;\n",
       "    }\n",
       "\n",
       "    .dataframe thead th {\n",
       "        text-align: right;\n",
       "    }\n",
       "</style>\n",
       "<table border=\"1\" class=\"dataframe\">\n",
       "  <thead>\n",
       "    <tr style=\"text-align: right;\">\n",
       "      <th></th>\n",
       "      <th>id</th>\n",
       "      <th>Manufacturer</th>\n",
       "      <th>Model</th>\n",
       "      <th>Type</th>\n",
       "      <th>Min.Price</th>\n",
       "      <th>Price</th>\n",
       "      <th>Max.Price</th>\n",
       "      <th>MPG.city</th>\n",
       "      <th>MPG.highway</th>\n",
       "      <th>AirBags</th>\n",
       "      <th>...</th>\n",
       "      <th>Passengers</th>\n",
       "      <th>Length</th>\n",
       "      <th>Wheelbase</th>\n",
       "      <th>Width</th>\n",
       "      <th>Turn.circle</th>\n",
       "      <th>Rear.seat.room</th>\n",
       "      <th>Luggage.room</th>\n",
       "      <th>Weight</th>\n",
       "      <th>Origin</th>\n",
       "      <th>Make</th>\n",
       "    </tr>\n",
       "  </thead>\n",
       "  <tbody>\n",
       "    <tr>\n",
       "      <th>0</th>\n",
       "      <td>1</td>\n",
       "      <td>Acura</td>\n",
       "      <td>Integra</td>\n",
       "      <td>Small</td>\n",
       "      <td>12.9</td>\n",
       "      <td>15.9</td>\n",
       "      <td>18.8</td>\n",
       "      <td>25</td>\n",
       "      <td>31</td>\n",
       "      <td>None</td>\n",
       "      <td>...</td>\n",
       "      <td>5</td>\n",
       "      <td>177</td>\n",
       "      <td>102</td>\n",
       "      <td>68</td>\n",
       "      <td>37</td>\n",
       "      <td>26.5</td>\n",
       "      <td>11.0</td>\n",
       "      <td>2705</td>\n",
       "      <td>non-USA</td>\n",
       "      <td>Acura Integra</td>\n",
       "    </tr>\n",
       "    <tr>\n",
       "      <th>1</th>\n",
       "      <td>2</td>\n",
       "      <td>Acura</td>\n",
       "      <td>Legend</td>\n",
       "      <td>Midsize</td>\n",
       "      <td>29.2</td>\n",
       "      <td>33.9</td>\n",
       "      <td>38.7</td>\n",
       "      <td>18</td>\n",
       "      <td>25</td>\n",
       "      <td>Driver &amp; Passenger</td>\n",
       "      <td>...</td>\n",
       "      <td>5</td>\n",
       "      <td>195</td>\n",
       "      <td>115</td>\n",
       "      <td>71</td>\n",
       "      <td>38</td>\n",
       "      <td>30.0</td>\n",
       "      <td>15.0</td>\n",
       "      <td>3560</td>\n",
       "      <td>non-USA</td>\n",
       "      <td>Acura Legend</td>\n",
       "    </tr>\n",
       "    <tr>\n",
       "      <th>2</th>\n",
       "      <td>3</td>\n",
       "      <td>Audi</td>\n",
       "      <td>90</td>\n",
       "      <td>Compact</td>\n",
       "      <td>25.9</td>\n",
       "      <td>29.1</td>\n",
       "      <td>32.3</td>\n",
       "      <td>20</td>\n",
       "      <td>26</td>\n",
       "      <td>Driver only</td>\n",
       "      <td>...</td>\n",
       "      <td>5</td>\n",
       "      <td>180</td>\n",
       "      <td>102</td>\n",
       "      <td>67</td>\n",
       "      <td>37</td>\n",
       "      <td>28.0</td>\n",
       "      <td>14.0</td>\n",
       "      <td>3375</td>\n",
       "      <td>non-USA</td>\n",
       "      <td>Audi 90</td>\n",
       "    </tr>\n",
       "    <tr>\n",
       "      <th>3</th>\n",
       "      <td>4</td>\n",
       "      <td>Audi</td>\n",
       "      <td>100</td>\n",
       "      <td>Midsize</td>\n",
       "      <td>30.8</td>\n",
       "      <td>37.7</td>\n",
       "      <td>44.6</td>\n",
       "      <td>19</td>\n",
       "      <td>26</td>\n",
       "      <td>NaN</td>\n",
       "      <td>...</td>\n",
       "      <td>6</td>\n",
       "      <td>193</td>\n",
       "      <td>106</td>\n",
       "      <td>70</td>\n",
       "      <td>37</td>\n",
       "      <td>31.0</td>\n",
       "      <td>17.0</td>\n",
       "      <td>3405</td>\n",
       "      <td>non-USA</td>\n",
       "      <td>Audi 100</td>\n",
       "    </tr>\n",
       "    <tr>\n",
       "      <th>4</th>\n",
       "      <td>5</td>\n",
       "      <td>BMW</td>\n",
       "      <td>535i</td>\n",
       "      <td>Midsize</td>\n",
       "      <td>23.7</td>\n",
       "      <td>30.0</td>\n",
       "      <td>36.2</td>\n",
       "      <td>22</td>\n",
       "      <td>30</td>\n",
       "      <td>Driver only</td>\n",
       "      <td>...</td>\n",
       "      <td>4</td>\n",
       "      <td>186</td>\n",
       "      <td>109</td>\n",
       "      <td>69</td>\n",
       "      <td>39</td>\n",
       "      <td>27.0</td>\n",
       "      <td>13.0</td>\n",
       "      <td>3640</td>\n",
       "      <td>non-USA</td>\n",
       "      <td>BMW 535i</td>\n",
       "    </tr>\n",
       "  </tbody>\n",
       "</table>\n",
       "<p>5 rows × 28 columns</p>\n",
       "</div>"
      ],
      "text/plain": [
       "   id Manufacturer    Model     Type  Min.Price  Price  Max.Price  MPG.city  \\\n",
       "0   1        Acura  Integra    Small       12.9   15.9       18.8        25   \n",
       "1   2        Acura   Legend  Midsize       29.2   33.9       38.7        18   \n",
       "2   3         Audi       90  Compact       25.9   29.1       32.3        20   \n",
       "3   4         Audi      100  Midsize       30.8   37.7       44.6        19   \n",
       "4   5          BMW     535i  Midsize       23.7   30.0       36.2        22   \n",
       "\n",
       "   MPG.highway             AirBags  ... Passengers Length  Wheelbase  Width  \\\n",
       "0           31                None  ...          5    177        102     68   \n",
       "1           25  Driver & Passenger  ...          5    195        115     71   \n",
       "2           26         Driver only  ...          5    180        102     67   \n",
       "3           26                 NaN  ...          6    193        106     70   \n",
       "4           30         Driver only  ...          4    186        109     69   \n",
       "\n",
       "   Turn.circle  Rear.seat.room Luggage.room  Weight   Origin           Make  \n",
       "0           37            26.5         11.0    2705  non-USA  Acura Integra  \n",
       "1           38            30.0         15.0    3560  non-USA   Acura Legend  \n",
       "2           37            28.0         14.0    3375  non-USA        Audi 90  \n",
       "3           37            31.0         17.0    3405  non-USA       Audi 100  \n",
       "4           39            27.0         13.0    3640  non-USA       BMW 535i  \n",
       "\n",
       "[5 rows x 28 columns]"
      ]
     },
     "execution_count": 2,
     "metadata": {},
     "output_type": "execute_result"
    }
   ],
   "source": [
    "A.head()"
   ]
  },
  {
   "cell_type": "code",
   "execution_count": 3,
   "id": "33a159b1",
   "metadata": {},
   "outputs": [],
   "source": [
    "from PM88 import replacer\n",
    "replacer(A)"
   ]
  },
  {
   "cell_type": "code",
   "execution_count": 4,
   "id": "076cebe0",
   "metadata": {},
   "outputs": [],
   "source": [
    "A = A.drop(labels=[\"id\",\"Make\",\"Manufacturer\",\"Model\"],axis=1)\n"
   ]
  },
  {
   "cell_type": "code",
   "execution_count": 5,
   "id": "ece8bda8",
   "metadata": {},
   "outputs": [],
   "source": [
    "Y = A[[\"Width\"]]\n",
    "X = A.drop(labels=[\"Width\"],axis=1)\n",
    "\n",
    "cat = []\n",
    "con = []\n",
    "for i in X.columns:\n",
    "    if(X[i].dtypes == \"object\"):\n",
    "        cat.append(i)\n",
    "    else:\n",
    "        con.append(i)"
   ]
  },
  {
   "cell_type": "code",
   "execution_count": 6,
   "id": "4d609820",
   "metadata": {},
   "outputs": [],
   "source": [
    "import pandas as pd\n",
    "Xcat = pd.get_dummies(A[cat])\n",
    "from sklearn.preprocessing import StandardScaler\n",
    "ss = StandardScaler()\n",
    "Xcon = pd.DataFrame(ss.fit_transform(X[con]),columns=con)\n",
    "\n",
    "X = Xcon.join(Xcat)"
   ]
  },
  {
   "cell_type": "code",
   "execution_count": 7,
   "id": "c382227d",
   "metadata": {},
   "outputs": [],
   "source": [
    "from sklearn.model_selection import train_test_split\n",
    "xtrain,xtest,ytrain,ytest = train_test_split(X,Y,test_size=0.2,random_state=31)"
   ]
  },
  {
   "cell_type": "code",
   "execution_count": 8,
   "id": "57d60369",
   "metadata": {},
   "outputs": [],
   "source": [
    "from sklearn.tree import DecisionTreeRegressor\n",
    "dtr = DecisionTreeRegressor(random_state=21)\n",
    "model = dtr.fit(xtrain,ytrain)\n",
    "pred_tr = model.predict(xtrain)\n",
    "pred_ts = model.predict(xtest)\n",
    "from sklearn.metrics import mean_squared_error\n",
    "tr_err = mean_squared_error(ytrain,pred_tr)\n",
    "\n",
    "ts_err = mean_squared_error(ytest,pred_ts)"
   ]
  },
  {
   "cell_type": "code",
   "execution_count": 9,
   "id": "c81ddd86",
   "metadata": {},
   "outputs": [
    {
     "data": {
      "text/plain": [
       "0.0"
      ]
     },
     "execution_count": 9,
     "metadata": {},
     "output_type": "execute_result"
    }
   ],
   "source": [
    "tr_err"
   ]
  },
  {
   "cell_type": "code",
   "execution_count": 10,
   "id": "bc735544",
   "metadata": {},
   "outputs": [
    {
     "data": {
      "text/plain": [
       "3.3684210526315788"
      ]
     },
     "execution_count": 10,
     "metadata": {},
     "output_type": "execute_result"
    }
   ],
   "source": [
    "ts_err"
   ]
  },
  {
   "cell_type": "markdown",
   "id": "aba7bf3d",
   "metadata": {},
   "source": [
    "# Simple tree¶\n"
   ]
  },
  {
   "cell_type": "code",
   "execution_count": 18,
   "id": "b2640b9b",
   "metadata": {},
   "outputs": [
    {
     "name": "stdout",
     "output_type": "stream",
     "text": [
      "Training Error: 0.0\n",
      "Testing Error: 3.37\n"
     ]
    }
   ],
   "source": [
    "from sklearn.tree import DecisionTreeRegressor\n",
    "dtr = DecisionTreeRegressor(random_state=21)\n",
    "model = dtr.fit(xtrain,ytrain)\n",
    "pred_tr = model.predict(xtrain)\n",
    "pred_ts = model.predict(xtest)\n",
    "from sklearn.metrics import mean_squared_error\n",
    "tr_err = mean_squared_error(ytrain,pred_tr)\n",
    "ts_err = mean_squared_error(ytest,pred_ts)\n",
    "print(\"Training Error:\",round(tr_err,2))\n",
    "print(\"Testing Error:\",round(ts_err,2))"
   ]
  },
  {
   "cell_type": "markdown",
   "id": "524dfae7",
   "metadata": {},
   "source": [
    "# Pruned_tree based on max depth"
   ]
  },
  {
   "cell_type": "code",
   "execution_count": 22,
   "id": "12d1d4fe",
   "metadata": {},
   "outputs": [
    {
     "name": "stdout",
     "output_type": "stream",
     "text": [
      "Training Error: 1.16\n",
      "Testing Error: 3.84\n"
     ]
    }
   ],
   "source": [
    "from sklearn.tree import DecisionTreeRegressor\n",
    "dtr = DecisionTreeRegressor(random_state=21,max_depth=3)\n",
    "model = dtr.fit(xtrain,ytrain)\n",
    "pred_tr = model.predict(xtrain)\n",
    "pred_ts = model.predict(xtest)\n",
    "from sklearn.metrics import mean_squared_error\n",
    "tr_err = mean_squared_error(ytrain,pred_tr)\n",
    "ts_err = mean_squared_error(ytest,pred_ts)\n",
    "print(\"Training Error:\",round(tr_err,2))\n",
    "print(\"Testing Error:\",round(ts_err,2))"
   ]
  },
  {
   "cell_type": "code",
   "execution_count": 23,
   "id": "0e167b5f",
   "metadata": {},
   "outputs": [
    {
     "data": {
      "text/plain": [
       "{'max_depth': 4}"
      ]
     },
     "execution_count": 23,
     "metadata": {},
     "output_type": "execute_result"
    }
   ],
   "source": [
    "from sklearn.model_selection import GridSearchCV\n",
    "dtr = DecisionTreeRegressor(random_state=21)\n",
    "tg = {\"max_depth\":range(1,20,1)}\n",
    "cv = GridSearchCV(dtr,tg,scoring=\"neg_mean_squared_error\",cv=3)\n",
    "cvmodel = cv.fit(xtrain,ytrain)\n",
    "cvmodel.best_params_"
   ]
  },
  {
   "cell_type": "code",
   "execution_count": 24,
   "id": "059e7c33",
   "metadata": {},
   "outputs": [
    {
     "name": "stdout",
     "output_type": "stream",
     "text": [
      "Training Error: 0.35\n",
      "Testing Error: 3.07\n"
     ]
    }
   ],
   "source": [
    "from sklearn.tree import DecisionTreeRegressor\n",
    "dtr = DecisionTreeRegressor(random_state=21,max_depth=4)\n",
    "model = dtr.fit(xtrain,ytrain)\n",
    "pred_tr = model.predict(xtrain)\n",
    "pred_ts = model.predict(xtest)\n",
    "from sklearn.metrics import mean_squared_error\n",
    "tr_err = mean_squared_error(ytrain,pred_tr)\n",
    "ts_err = mean_squared_error(ytest,pred_ts)\n",
    "print(\"Training Error:\",round(tr_err,2))\n",
    "print(\"Testing Error:\",round(ts_err,2))"
   ]
  },
  {
   "cell_type": "markdown",
   "id": "fca40396",
   "metadata": {},
   "source": [
    "# Pruned tree based on min samples at leaf"
   ]
  },
  {
   "cell_type": "code",
   "execution_count": 25,
   "id": "5ad60161",
   "metadata": {},
   "outputs": [
    {
     "data": {
      "text/plain": [
       "{'min_samples_leaf': 1}"
      ]
     },
     "execution_count": 25,
     "metadata": {},
     "output_type": "execute_result"
    }
   ],
   "source": [
    "from sklearn.model_selection import GridSearchCV\n",
    "dtr = DecisionTreeRegressor(random_state=21)\n",
    "tg = {\"min_samples_leaf\":range(1,20,1)}\n",
    "cv = GridSearchCV(dtr,tg,scoring=\"neg_mean_squared_error\",cv=3)\n",
    "cvmodel = cv.fit(xtrain,ytrain)\n",
    "cvmodel.best_params_"
   ]
  },
  {
   "cell_type": "code",
   "execution_count": 26,
   "id": "d2742487",
   "metadata": {},
   "outputs": [
    {
     "name": "stdout",
     "output_type": "stream",
     "text": [
      "Training Error: 0.0\n",
      "Testing Error: 3.37\n"
     ]
    }
   ],
   "source": [
    "from sklearn.tree import DecisionTreeRegressor\n",
    "dtr = DecisionTreeRegressor(random_state=21,min_samples_leaf=1)\n",
    "model = dtr.fit(xtrain,ytrain)\n",
    "pred_tr = model.predict(xtrain)\n",
    "pred_ts = model.predict(xtest)\n",
    "from sklearn.metrics import mean_squared_error\n",
    "tr_err = mean_squared_error(ytrain,pred_tr)\n",
    "ts_err = mean_squared_error(ytest,pred_ts)\n",
    "print(\"Training Error:\",round(tr_err,2))\n",
    "print(\"Testing Error:\",round(ts_err,2))"
   ]
  },
  {
   "cell_type": "markdown",
   "id": "55cdc5de",
   "metadata": {},
   "source": [
    "# Pruned tree based on min samples used for splitting"
   ]
  },
  {
   "cell_type": "code",
   "execution_count": 30,
   "id": "170c8d49",
   "metadata": {},
   "outputs": [
    {
     "data": {
      "text/plain": [
       "{'min_samples_split': 3}"
      ]
     },
     "execution_count": 30,
     "metadata": {},
     "output_type": "execute_result"
    }
   ],
   "source": [
    "import warnings\n",
    "warnings.filterwarnings('ignore')\n",
    "\n",
    "from sklearn.model_selection import GridSearchCV\n",
    "dtr = DecisionTreeRegressor(random_state=21)\n",
    "tg = {\"min_samples_split\":range(1,30,1)}\n",
    "cv = GridSearchCV(dtr,tg,scoring=\"neg_mean_squared_error\",cv=3)\n",
    "cvmodel = cv.fit(xtrain,ytrain)\n",
    "cvmodel.best_params_"
   ]
  },
  {
   "cell_type": "code",
   "execution_count": 29,
   "id": "fe4b523a",
   "metadata": {},
   "outputs": [
    {
     "name": "stdout",
     "output_type": "stream",
     "text": [
      "Training Error: 0.01\n",
      "Testing Error: 5.05\n"
     ]
    }
   ],
   "source": [
    "from sklearn.tree import DecisionTreeRegressor\n",
    "dtr = DecisionTreeRegressor(random_state=21,min_samples_split=3)\n",
    "model = dtr.fit(xtrain,ytrain)\n",
    "pred_tr = model.predict(xtrain)\n",
    "pred_ts = model.predict(xtest)\n",
    "from sklearn.metrics import mean_squared_error\n",
    "tr_err = mean_squared_error(ytrain,pred_tr)\n",
    "ts_err = mean_squared_error(ytest,pred_ts)\n",
    "print(\"Training Error:\",round(tr_err,2))\n",
    "print(\"Testing Error:\",round(ts_err,2))"
   ]
  },
  {
   "cell_type": "markdown",
   "id": "b29db459",
   "metadata": {},
   "source": [
    "# Random forest regressor"
   ]
  },
  {
   "cell_type": "code",
   "execution_count": 34,
   "id": "db50d280",
   "metadata": {},
   "outputs": [
    {
     "name": "stdout",
     "output_type": "stream",
     "text": [
      "RandomForestRegressor\n",
      "Test  :    1.227\n",
      "Train :    0.401\n",
      "----------------------------------------------------\n"
     ]
    }
   ],
   "source": [
    "from sklearn.metrics import mean_absolute_error\n",
    "\n",
    "from sklearn.ensemble import RandomForestRegressor\n",
    "rfr = RandomForestRegressor(random_state=21)\n",
    "rfrmodel = rfr.fit(xtrain,ytrain)\n",
    "pred_test = rfrmodel.predict(xtest)\n",
    "pred_train = rfrmodel.predict(xtrain)\n",
    "\n",
    "print('RandomForestRegressor')\n",
    "print('Test  :   ',round(mean_absolute_error(ytest,pred_test),3))\n",
    "print('Train :   ',round(mean_absolute_error(ytrain,pred_train),3))\n",
    "print('----------------------------------------------------')"
   ]
  },
  {
   "cell_type": "code",
   "execution_count": 38,
   "id": "f9ee5ffd",
   "metadata": {},
   "outputs": [
    {
     "name": "stdout",
     "output_type": "stream",
     "text": [
      "RandomForestRegressor: max_depth\n",
      "Test  :    1.203\n",
      "Train :    0.443\n",
      "----------------------------------------------------\n"
     ]
    }
   ],
   "source": [
    "rfr = RandomForestRegressor(random_state=31, max_depth=6)\n",
    "rfrmodel = rfr.fit(xtrain,ytrain)\n",
    "pred_test = rfrmodel.predict(xtest)\n",
    "pred_train = rfrmodel.predict(xtrain)\n",
    "print('RandomForestRegressor: max_depth')\n",
    "print('Test  :   ',round(mean_absolute_error(ytest,pred_test),3))\n",
    "print('Train :   ',round(mean_absolute_error(ytrain,pred_train),3))\n",
    "print('----------------------------------------------------')\n"
   ]
  },
  {
   "cell_type": "code",
   "execution_count": 41,
   "id": "29fb863d",
   "metadata": {},
   "outputs": [
    {
     "name": "stdout",
     "output_type": "stream",
     "text": [
      "RandomForestRegressor: min_samples_leaf\n",
      "Test  :    1.275\n",
      "Train :    0.576\n",
      "----------------------------------------------------\n"
     ]
    }
   ],
   "source": [
    "rfr = RandomForestRegressor(random_state=31, min_samples_leaf=3)\n",
    "rfrmodel = rfr.fit(xtrain,ytrain)\n",
    "pred_test = rfrmodel.predict(xtest)\n",
    "pred_train = rfrmodel.predict(xtrain)\n",
    "\n",
    "print('RandomForestRegressor: min_samples_leaf')\n",
    "print('Test  :   ',round(mean_absolute_error(ytest,pred_test),3))\n",
    "print('Train :   ',round(mean_absolute_error(ytrain,pred_train),3))\n",
    "print('----------------------------------------------------')\n"
   ]
  },
  {
   "cell_type": "code",
   "execution_count": 43,
   "id": "06726e20",
   "metadata": {},
   "outputs": [
    {
     "name": "stdout",
     "output_type": "stream",
     "text": [
      "RandomForestRegressor: min_samples_split\n",
      "Test  :    1.19\n",
      "Train :    0.433\n",
      "----------------------------------------------------\n"
     ]
    }
   ],
   "source": [
    "rfr = RandomForestRegressor(random_state=31, min_samples_split=3)\n",
    "rfrmodel = rfr.fit(xtrain,ytrain)\n",
    "pred_test = rfrmodel.predict(xtest)\n",
    "pred_train = rfrmodel.predict(xtrain)\n",
    "\n",
    "print('RandomForestRegressor: min_samples_split')\n",
    "print('Test  :   ',round(mean_absolute_error(ytest,pred_test),3))\n",
    "print('Train :   ',round(mean_absolute_error(ytrain,pred_train),3))\n",
    "print('----------------------------------------------------')"
   ]
  },
  {
   "cell_type": "code",
   "execution_count": null,
   "id": "22d3c8b4",
   "metadata": {},
   "outputs": [],
   "source": [
    "from sklearn.metrics import accuracy_score\n",
    "\n",
    "pred = nn.predict(xtest)\n",
    "round(accuracy_score(ytest, pred),3)"
   ]
  },
  {
   "cell_type": "code",
   "execution_count": null,
   "id": "8b0060f7",
   "metadata": {},
   "outputs": [],
   "source": []
  }
 ],
 "metadata": {
  "kernelspec": {
   "display_name": "Python 3",
   "language": "python",
   "name": "python3"
  },
  "language_info": {
   "codemirror_mode": {
    "name": "ipython",
    "version": 3
   },
   "file_extension": ".py",
   "mimetype": "text/x-python",
   "name": "python",
   "nbconvert_exporter": "python",
   "pygments_lexer": "ipython3",
   "version": "3.8.8"
  }
 },
 "nbformat": 4,
 "nbformat_minor": 5
}
