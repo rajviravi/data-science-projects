{
 "cells": [
  {
   "cell_type": "markdown",
   "id": "0b45eb9b",
   "metadata": {},
   "source": [
    "# Problem Statment:¶\n",
    "1. Loan Elegibility\n",
    "2. LoanAmount\n",
    "3. Loan Amount Term"
   ]
  },
  {
   "cell_type": "code",
   "execution_count": 1,
   "id": "771f5ec1",
   "metadata": {},
   "outputs": [],
   "source": [
    "from warnings import filterwarnings\n",
    "filterwarnings(\"ignore\")"
   ]
  },
  {
   "cell_type": "code",
   "execution_count": 2,
   "id": "93551051",
   "metadata": {},
   "outputs": [],
   "source": [
    "import pandas as pd\n",
    "train = pd.read_csv(\"/users/ravi/Desktop/datasets/training_set_loan.csv\")\n",
    "test = pd.read_csv(\"/users/ravi/Desktop/datasets/testing_set_loan.csv\")"
   ]
  },
  {
   "cell_type": "code",
   "execution_count": 3,
   "id": "c76edd43",
   "metadata": {},
   "outputs": [
    {
     "data": {
      "text/html": [
       "<div>\n",
       "<style scoped>\n",
       "    .dataframe tbody tr th:only-of-type {\n",
       "        vertical-align: middle;\n",
       "    }\n",
       "\n",
       "    .dataframe tbody tr th {\n",
       "        vertical-align: top;\n",
       "    }\n",
       "\n",
       "    .dataframe thead th {\n",
       "        text-align: right;\n",
       "    }\n",
       "</style>\n",
       "<table border=\"1\" class=\"dataframe\">\n",
       "  <thead>\n",
       "    <tr style=\"text-align: right;\">\n",
       "      <th></th>\n",
       "      <th>Loan_ID</th>\n",
       "      <th>Gender</th>\n",
       "      <th>Married</th>\n",
       "      <th>Dependents</th>\n",
       "      <th>Education</th>\n",
       "      <th>Self_Employed</th>\n",
       "      <th>ApplicantIncome</th>\n",
       "      <th>CoapplicantIncome</th>\n",
       "      <th>LoanAmount</th>\n",
       "      <th>Loan_Amount_Term</th>\n",
       "      <th>Credit_History</th>\n",
       "      <th>Property_Area</th>\n",
       "      <th>Loan_Status</th>\n",
       "    </tr>\n",
       "  </thead>\n",
       "  <tbody>\n",
       "    <tr>\n",
       "      <th>0</th>\n",
       "      <td>LP001002</td>\n",
       "      <td>Male</td>\n",
       "      <td>No</td>\n",
       "      <td>0</td>\n",
       "      <td>Graduate</td>\n",
       "      <td>No</td>\n",
       "      <td>5849.0</td>\n",
       "      <td>0.0</td>\n",
       "      <td>NaN</td>\n",
       "      <td>360.0</td>\n",
       "      <td>1.0</td>\n",
       "      <td>Urban</td>\n",
       "      <td>Y</td>\n",
       "    </tr>\n",
       "    <tr>\n",
       "      <th>1</th>\n",
       "      <td>LP001003</td>\n",
       "      <td>Male</td>\n",
       "      <td>Yes</td>\n",
       "      <td>1</td>\n",
       "      <td>Graduate</td>\n",
       "      <td>No</td>\n",
       "      <td>NaN</td>\n",
       "      <td>1508.0</td>\n",
       "      <td>128.0</td>\n",
       "      <td>360.0</td>\n",
       "      <td>1.0</td>\n",
       "      <td>Rural</td>\n",
       "      <td>N</td>\n",
       "    </tr>\n",
       "    <tr>\n",
       "      <th>2</th>\n",
       "      <td>LP001005</td>\n",
       "      <td>Male</td>\n",
       "      <td>Yes</td>\n",
       "      <td>0</td>\n",
       "      <td>Graduate</td>\n",
       "      <td>Yes</td>\n",
       "      <td>3000.0</td>\n",
       "      <td>0.0</td>\n",
       "      <td>66.0</td>\n",
       "      <td>360.0</td>\n",
       "      <td>1.0</td>\n",
       "      <td>Urban</td>\n",
       "      <td>Y</td>\n",
       "    </tr>\n",
       "    <tr>\n",
       "      <th>3</th>\n",
       "      <td>LP001006</td>\n",
       "      <td>Male</td>\n",
       "      <td>Yes</td>\n",
       "      <td>0</td>\n",
       "      <td>Not Graduate</td>\n",
       "      <td>No</td>\n",
       "      <td>2583.0</td>\n",
       "      <td>2358.0</td>\n",
       "      <td>120.0</td>\n",
       "      <td>360.0</td>\n",
       "      <td>1.0</td>\n",
       "      <td>Urban</td>\n",
       "      <td>Y</td>\n",
       "    </tr>\n",
       "    <tr>\n",
       "      <th>4</th>\n",
       "      <td>LP001008</td>\n",
       "      <td>Male</td>\n",
       "      <td>No</td>\n",
       "      <td>0</td>\n",
       "      <td>Graduate</td>\n",
       "      <td>No</td>\n",
       "      <td>6000.0</td>\n",
       "      <td>0.0</td>\n",
       "      <td>141.0</td>\n",
       "      <td>360.0</td>\n",
       "      <td>1.0</td>\n",
       "      <td>Urban</td>\n",
       "      <td>Y</td>\n",
       "    </tr>\n",
       "  </tbody>\n",
       "</table>\n",
       "</div>"
      ],
      "text/plain": [
       "    Loan_ID Gender Married Dependents     Education Self_Employed  \\\n",
       "0  LP001002   Male      No          0      Graduate            No   \n",
       "1  LP001003   Male     Yes          1      Graduate            No   \n",
       "2  LP001005   Male     Yes          0      Graduate           Yes   \n",
       "3  LP001006   Male     Yes          0  Not Graduate            No   \n",
       "4  LP001008   Male      No          0      Graduate            No   \n",
       "\n",
       "   ApplicantIncome  CoapplicantIncome  LoanAmount  Loan_Amount_Term  \\\n",
       "0           5849.0                0.0         NaN             360.0   \n",
       "1              NaN             1508.0       128.0             360.0   \n",
       "2           3000.0                0.0        66.0             360.0   \n",
       "3           2583.0             2358.0       120.0             360.0   \n",
       "4           6000.0                0.0       141.0             360.0   \n",
       "\n",
       "   Credit_History Property_Area Loan_Status  \n",
       "0             1.0         Urban           Y  \n",
       "1             1.0         Rural           N  \n",
       "2             1.0         Urban           Y  \n",
       "3             1.0         Urban           Y  \n",
       "4             1.0         Urban           Y  "
      ]
     },
     "execution_count": 3,
     "metadata": {},
     "output_type": "execute_result"
    }
   ],
   "source": [
    "train.head()"
   ]
  },
  {
   "cell_type": "code",
   "execution_count": 4,
   "id": "ecf1a43a",
   "metadata": {},
   "outputs": [
    {
     "data": {
      "text/html": [
       "<div>\n",
       "<style scoped>\n",
       "    .dataframe tbody tr th:only-of-type {\n",
       "        vertical-align: middle;\n",
       "    }\n",
       "\n",
       "    .dataframe tbody tr th {\n",
       "        vertical-align: top;\n",
       "    }\n",
       "\n",
       "    .dataframe thead th {\n",
       "        text-align: right;\n",
       "    }\n",
       "</style>\n",
       "<table border=\"1\" class=\"dataframe\">\n",
       "  <thead>\n",
       "    <tr style=\"text-align: right;\">\n",
       "      <th></th>\n",
       "      <th>Loan_ID</th>\n",
       "      <th>Gender</th>\n",
       "      <th>Married</th>\n",
       "      <th>Dependents</th>\n",
       "      <th>Education</th>\n",
       "      <th>Self_Employed</th>\n",
       "      <th>ApplicantIncome</th>\n",
       "      <th>CoapplicantIncome</th>\n",
       "      <th>LoanAmount</th>\n",
       "      <th>Loan_Amount_Term</th>\n",
       "      <th>Credit_History</th>\n",
       "      <th>Property_Area</th>\n",
       "    </tr>\n",
       "  </thead>\n",
       "  <tbody>\n",
       "    <tr>\n",
       "      <th>0</th>\n",
       "      <td>LP001015</td>\n",
       "      <td>Male</td>\n",
       "      <td>Yes</td>\n",
       "      <td>0</td>\n",
       "      <td>Graduate</td>\n",
       "      <td>No</td>\n",
       "      <td>5720</td>\n",
       "      <td>0</td>\n",
       "      <td>110.0</td>\n",
       "      <td>360.0</td>\n",
       "      <td>1.0</td>\n",
       "      <td>Urban</td>\n",
       "    </tr>\n",
       "    <tr>\n",
       "      <th>1</th>\n",
       "      <td>LP001022</td>\n",
       "      <td>Male</td>\n",
       "      <td>Yes</td>\n",
       "      <td>1</td>\n",
       "      <td>Graduate</td>\n",
       "      <td>No</td>\n",
       "      <td>3076</td>\n",
       "      <td>1500</td>\n",
       "      <td>126.0</td>\n",
       "      <td>360.0</td>\n",
       "      <td>1.0</td>\n",
       "      <td>Urban</td>\n",
       "    </tr>\n",
       "    <tr>\n",
       "      <th>2</th>\n",
       "      <td>LP001031</td>\n",
       "      <td>Male</td>\n",
       "      <td>Yes</td>\n",
       "      <td>2</td>\n",
       "      <td>Graduate</td>\n",
       "      <td>No</td>\n",
       "      <td>5000</td>\n",
       "      <td>1800</td>\n",
       "      <td>208.0</td>\n",
       "      <td>360.0</td>\n",
       "      <td>1.0</td>\n",
       "      <td>Urban</td>\n",
       "    </tr>\n",
       "    <tr>\n",
       "      <th>3</th>\n",
       "      <td>LP001035</td>\n",
       "      <td>Male</td>\n",
       "      <td>Yes</td>\n",
       "      <td>2</td>\n",
       "      <td>Graduate</td>\n",
       "      <td>No</td>\n",
       "      <td>2340</td>\n",
       "      <td>2546</td>\n",
       "      <td>100.0</td>\n",
       "      <td>360.0</td>\n",
       "      <td>NaN</td>\n",
       "      <td>Urban</td>\n",
       "    </tr>\n",
       "    <tr>\n",
       "      <th>4</th>\n",
       "      <td>LP001051</td>\n",
       "      <td>Male</td>\n",
       "      <td>No</td>\n",
       "      <td>0</td>\n",
       "      <td>Not Graduate</td>\n",
       "      <td>No</td>\n",
       "      <td>3276</td>\n",
       "      <td>0</td>\n",
       "      <td>78.0</td>\n",
       "      <td>360.0</td>\n",
       "      <td>1.0</td>\n",
       "      <td>Urban</td>\n",
       "    </tr>\n",
       "  </tbody>\n",
       "</table>\n",
       "</div>"
      ],
      "text/plain": [
       "    Loan_ID Gender Married Dependents     Education Self_Employed  \\\n",
       "0  LP001015   Male     Yes          0      Graduate            No   \n",
       "1  LP001022   Male     Yes          1      Graduate            No   \n",
       "2  LP001031   Male     Yes          2      Graduate            No   \n",
       "3  LP001035   Male     Yes          2      Graduate            No   \n",
       "4  LP001051   Male      No          0  Not Graduate            No   \n",
       "\n",
       "   ApplicantIncome  CoapplicantIncome  LoanAmount  Loan_Amount_Term  \\\n",
       "0             5720                  0       110.0             360.0   \n",
       "1             3076               1500       126.0             360.0   \n",
       "2             5000               1800       208.0             360.0   \n",
       "3             2340               2546       100.0             360.0   \n",
       "4             3276                  0        78.0             360.0   \n",
       "\n",
       "   Credit_History Property_Area  \n",
       "0             1.0         Urban  \n",
       "1             1.0         Urban  \n",
       "2             1.0         Urban  \n",
       "3             NaN         Urban  \n",
       "4             1.0         Urban  "
      ]
     },
     "execution_count": 4,
     "metadata": {},
     "output_type": "execute_result"
    }
   ],
   "source": [
    "test.head()"
   ]
  },
  {
   "cell_type": "markdown",
   "id": "ea810f9c",
   "metadata": {},
   "source": [
    "# Missing Data Treatment¶\n"
   ]
  },
  {
   "cell_type": "code",
   "execution_count": 5,
   "id": "3bba7ae1",
   "metadata": {},
   "outputs": [],
   "source": [
    "def replacer(df):\n",
    "    import pandas as pd\n",
    "    Q = pd.DataFrame(df.isna().sum(),columns=[\"ct\"])\n",
    "    for i in Q[Q.ct > 0].index:\n",
    "        if(df[i].dtypes == \"object\"):\n",
    "            x = df[i].mode()[0]\n",
    "            df[i] = df[i].fillna(x)\n",
    "        else:\n",
    "            x = df[i].mean()\n",
    "            df[i] = df[i].fillna(x)\n",
    "            "
   ]
  },
  {
   "cell_type": "code",
   "execution_count": 6,
   "id": "f91eacce",
   "metadata": {},
   "outputs": [],
   "source": [
    "replacer(train)\n",
    "replacer(test)"
   ]
  },
  {
   "cell_type": "markdown",
   "id": "d5898b17",
   "metadata": {},
   "source": [
    "# Declare X and Y and Remove Unwanted"
   ]
  },
  {
   "cell_type": "code",
   "execution_count": 7,
   "id": "bca65e71",
   "metadata": {},
   "outputs": [],
   "source": [
    "Y = train[[\"Loan_Status\"]]\n",
    "X = train.drop(labels=[\"Loan_ID\",\"Loan_Status\"],axis=1)"
   ]
  },
  {
   "cell_type": "markdown",
   "id": "5aa5f8ab",
   "metadata": {},
   "source": [
    "# Exploratory Data Analysis"
   ]
  },
  {
   "cell_type": "code",
   "execution_count": 8,
   "id": "b656909b",
   "metadata": {},
   "outputs": [],
   "source": [
    "def anova(df, cat, con):\n",
    "    from statsmodels.formula.api import ols\n",
    "    from statsmodels.stats.anova import anova_lm\n",
    "    rel = con + \"~\" + cat\n",
    "    model = ols(rel,df).fit()\n",
    "    anova_result = anova_lm(model)\n",
    "    Df = pd.DataFrame(anova_result)\n",
    "    q = Df['PR(>F)'][cat]\n",
    "    q = round(q,4)"
   ]
  },
  {
   "cell_type": "code",
   "execution_count": 9,
   "id": "235ddcbb",
   "metadata": {},
   "outputs": [
    {
     "name": "stdout",
     "output_type": "stream",
     "text": [
      "Gender       Female  Male\n",
      "Loan_Status              \n",
      "N                37   155\n",
      "Y                75   347\n",
      "------------------------------\n",
      "Married       No  Yes\n",
      "Loan_Status          \n",
      "N             79  113\n",
      "Y            134  288\n",
      "------------------------------\n",
      "Dependents     0   1   2  3+\n",
      "Loan_Status                 \n",
      "N            113  36  25  18\n",
      "Y            247  66  76  33\n",
      "------------------------------\n",
      "Education    Graduate  Not Graduate\n",
      "Loan_Status                        \n",
      "N                 140            52\n",
      "Y                 340            82\n",
      "------------------------------\n",
      "Self_Employed   No  Yes\n",
      "Loan_Status            \n",
      "N              166   26\n",
      "Y              366   56\n",
      "------------------------------\n",
      "ApplicantIncome None\n",
      "------------------------------\n",
      "CoapplicantIncome None\n",
      "------------------------------\n",
      "LoanAmount None\n",
      "------------------------------\n",
      "Loan_Amount_Term None\n",
      "------------------------------\n",
      "Credit_History None\n",
      "------------------------------\n",
      "Property_Area  Rural  Semiurban  Urban\n",
      "Loan_Status                           \n",
      "N                 69         54     69\n",
      "Y                110        179    133\n",
      "------------------------------\n"
     ]
    }
   ],
   "source": [
    "for i in X.columns:\n",
    "    if(X[i].dtypes != \"object\"):\n",
    "        print(i,anova(train,\"Loan_Status\",i))\n",
    "        print(\"------------------------------\")\n",
    "    else:\n",
    "        print(pd.crosstab(train['Loan_Status'],train[i]))\n",
    "        print(\"------------------------------\")"
   ]
  },
  {
   "cell_type": "markdown",
   "id": "487fa6e5",
   "metadata": {},
   "source": [
    "# Preprocessing"
   ]
  },
  {
   "cell_type": "code",
   "execution_count": 10,
   "id": "5f3e0d39",
   "metadata": {},
   "outputs": [],
   "source": [
    "from sklearn.preprocessing import StandardScaler\n",
    "cat = []\n",
    "con = []\n",
    "for i in X.columns:\n",
    "    if(X[i].dtypes == \"object\"):\n",
    "        cat.append(i)\n",
    "    else:\n",
    "        con.append(i)\n",
    "\n",
    "ss = StandardScaler()\n",
    "X1 = pd.DataFrame(ss.fit_transform(X[con]),columns=con)\n",
    "X2 = pd.get_dummies(X[cat])\n",
    "\n",
    "Xnew = X1.join(X2)"
   ]
  },
  {
   "cell_type": "code",
   "execution_count": 11,
   "id": "e2d92b06",
   "metadata": {},
   "outputs": [
    {
     "data": {
      "text/html": [
       "<div>\n",
       "<style scoped>\n",
       "    .dataframe tbody tr th:only-of-type {\n",
       "        vertical-align: middle;\n",
       "    }\n",
       "\n",
       "    .dataframe tbody tr th {\n",
       "        vertical-align: top;\n",
       "    }\n",
       "\n",
       "    .dataframe thead th {\n",
       "        text-align: right;\n",
       "    }\n",
       "</style>\n",
       "<table border=\"1\" class=\"dataframe\">\n",
       "  <thead>\n",
       "    <tr style=\"text-align: right;\">\n",
       "      <th></th>\n",
       "      <th>ApplicantIncome</th>\n",
       "      <th>CoapplicantIncome</th>\n",
       "      <th>LoanAmount</th>\n",
       "      <th>Loan_Amount_Term</th>\n",
       "      <th>Credit_History</th>\n",
       "      <th>Gender_Female</th>\n",
       "      <th>Gender_Male</th>\n",
       "      <th>Married_No</th>\n",
       "      <th>Married_Yes</th>\n",
       "      <th>Dependents_0</th>\n",
       "      <th>Dependents_1</th>\n",
       "      <th>Dependents_2</th>\n",
       "      <th>Dependents_3+</th>\n",
       "      <th>Education_Graduate</th>\n",
       "      <th>Education_Not Graduate</th>\n",
       "      <th>Self_Employed_No</th>\n",
       "      <th>Self_Employed_Yes</th>\n",
       "      <th>Property_Area_Rural</th>\n",
       "      <th>Property_Area_Semiurban</th>\n",
       "      <th>Property_Area_Urban</th>\n",
       "    </tr>\n",
       "  </thead>\n",
       "  <tbody>\n",
       "    <tr>\n",
       "      <th>0</th>\n",
       "      <td>0.072651</td>\n",
       "      <td>-0.554368</td>\n",
       "      <td>0.000000</td>\n",
       "      <td>0.279851</td>\n",
       "      <td>0.45164</td>\n",
       "      <td>0</td>\n",
       "      <td>1</td>\n",
       "      <td>1</td>\n",
       "      <td>0</td>\n",
       "      <td>1</td>\n",
       "      <td>0</td>\n",
       "      <td>0</td>\n",
       "      <td>0</td>\n",
       "      <td>1</td>\n",
       "      <td>0</td>\n",
       "      <td>1</td>\n",
       "      <td>0</td>\n",
       "      <td>0</td>\n",
       "      <td>0</td>\n",
       "      <td>1</td>\n",
       "    </tr>\n",
       "    <tr>\n",
       "      <th>1</th>\n",
       "      <td>0.000000</td>\n",
       "      <td>-0.038610</td>\n",
       "      <td>-0.219273</td>\n",
       "      <td>0.279851</td>\n",
       "      <td>0.45164</td>\n",
       "      <td>0</td>\n",
       "      <td>1</td>\n",
       "      <td>0</td>\n",
       "      <td>1</td>\n",
       "      <td>0</td>\n",
       "      <td>1</td>\n",
       "      <td>0</td>\n",
       "      <td>0</td>\n",
       "      <td>1</td>\n",
       "      <td>0</td>\n",
       "      <td>1</td>\n",
       "      <td>0</td>\n",
       "      <td>1</td>\n",
       "      <td>0</td>\n",
       "      <td>0</td>\n",
       "    </tr>\n",
       "    <tr>\n",
       "      <th>2</th>\n",
       "      <td>-0.394096</td>\n",
       "      <td>-0.554368</td>\n",
       "      <td>-0.957641</td>\n",
       "      <td>0.279851</td>\n",
       "      <td>0.45164</td>\n",
       "      <td>0</td>\n",
       "      <td>1</td>\n",
       "      <td>0</td>\n",
       "      <td>1</td>\n",
       "      <td>1</td>\n",
       "      <td>0</td>\n",
       "      <td>0</td>\n",
       "      <td>0</td>\n",
       "      <td>1</td>\n",
       "      <td>0</td>\n",
       "      <td>0</td>\n",
       "      <td>1</td>\n",
       "      <td>0</td>\n",
       "      <td>0</td>\n",
       "      <td>1</td>\n",
       "    </tr>\n",
       "    <tr>\n",
       "      <th>3</th>\n",
       "      <td>-0.462412</td>\n",
       "      <td>0.252103</td>\n",
       "      <td>-0.314547</td>\n",
       "      <td>0.279851</td>\n",
       "      <td>0.45164</td>\n",
       "      <td>0</td>\n",
       "      <td>1</td>\n",
       "      <td>0</td>\n",
       "      <td>1</td>\n",
       "      <td>1</td>\n",
       "      <td>0</td>\n",
       "      <td>0</td>\n",
       "      <td>0</td>\n",
       "      <td>0</td>\n",
       "      <td>1</td>\n",
       "      <td>1</td>\n",
       "      <td>0</td>\n",
       "      <td>0</td>\n",
       "      <td>0</td>\n",
       "      <td>1</td>\n",
       "    </tr>\n",
       "    <tr>\n",
       "      <th>4</th>\n",
       "      <td>0.097389</td>\n",
       "      <td>-0.554368</td>\n",
       "      <td>-0.064454</td>\n",
       "      <td>0.279851</td>\n",
       "      <td>0.45164</td>\n",
       "      <td>0</td>\n",
       "      <td>1</td>\n",
       "      <td>1</td>\n",
       "      <td>0</td>\n",
       "      <td>1</td>\n",
       "      <td>0</td>\n",
       "      <td>0</td>\n",
       "      <td>0</td>\n",
       "      <td>1</td>\n",
       "      <td>0</td>\n",
       "      <td>1</td>\n",
       "      <td>0</td>\n",
       "      <td>0</td>\n",
       "      <td>0</td>\n",
       "      <td>1</td>\n",
       "    </tr>\n",
       "  </tbody>\n",
       "</table>\n",
       "</div>"
      ],
      "text/plain": [
       "   ApplicantIncome  CoapplicantIncome  LoanAmount  Loan_Amount_Term  \\\n",
       "0         0.072651          -0.554368    0.000000          0.279851   \n",
       "1         0.000000          -0.038610   -0.219273          0.279851   \n",
       "2        -0.394096          -0.554368   -0.957641          0.279851   \n",
       "3        -0.462412           0.252103   -0.314547          0.279851   \n",
       "4         0.097389          -0.554368   -0.064454          0.279851   \n",
       "\n",
       "   Credit_History  Gender_Female  Gender_Male  Married_No  Married_Yes  \\\n",
       "0         0.45164              0            1           1            0   \n",
       "1         0.45164              0            1           0            1   \n",
       "2         0.45164              0            1           0            1   \n",
       "3         0.45164              0            1           0            1   \n",
       "4         0.45164              0            1           1            0   \n",
       "\n",
       "   Dependents_0  Dependents_1  Dependents_2  Dependents_3+  \\\n",
       "0             1             0             0              0   \n",
       "1             0             1             0              0   \n",
       "2             1             0             0              0   \n",
       "3             1             0             0              0   \n",
       "4             1             0             0              0   \n",
       "\n",
       "   Education_Graduate  Education_Not Graduate  Self_Employed_No  \\\n",
       "0                   1                       0                 1   \n",
       "1                   1                       0                 1   \n",
       "2                   1                       0                 0   \n",
       "3                   0                       1                 1   \n",
       "4                   1                       0                 1   \n",
       "\n",
       "   Self_Employed_Yes  Property_Area_Rural  Property_Area_Semiurban  \\\n",
       "0                  0                    0                        0   \n",
       "1                  0                    1                        0   \n",
       "2                  1                    0                        0   \n",
       "3                  0                    0                        0   \n",
       "4                  0                    0                        0   \n",
       "\n",
       "   Property_Area_Urban  \n",
       "0                    1  \n",
       "1                    0  \n",
       "2                    1  \n",
       "3                    1  \n",
       "4                    1  "
      ]
     },
     "execution_count": 11,
     "metadata": {},
     "output_type": "execute_result"
    }
   ],
   "source": [
    "Xnew.head()"
   ]
  },
  {
   "cell_type": "markdown",
   "id": "ba534fe3",
   "metadata": {},
   "source": [
    "# Decision Tree\n"
   ]
  },
  {
   "cell_type": "code",
   "execution_count": 12,
   "id": "3bdac470",
   "metadata": {},
   "outputs": [],
   "source": [
    "from sklearn.tree import DecisionTreeClassifier\n",
    "dtc = DecisionTreeClassifier(random_state=31)\n",
    "\n",
    "from sklearn.model_selection import GridSearchCV\n",
    "tp = {\"max_depth\":range(2,20,1)}\n",
    "cv = GridSearchCV(dtc,tp,scoring=\"accuracy\",cv=3)\n",
    "cvmodel = cv.fit(Xnew,Y)\n",
    "x = cvmodel.best_params_['max_depth']\n",
    "\n",
    "dtc = DecisionTreeClassifier(random_state=31,max_depth=x)\n",
    "model = dtc.fit(Xnew,Y)"
   ]
  },
  {
   "cell_type": "code",
   "execution_count": 13,
   "id": "56da3ee8",
   "metadata": {},
   "outputs": [
    {
     "data": {
      "text/plain": [
       "(614, 20)"
      ]
     },
     "execution_count": 13,
     "metadata": {},
     "output_type": "execute_result"
    }
   ],
   "source": [
    "Xnew.shape\n"
   ]
  },
  {
   "cell_type": "markdown",
   "id": "79d2735d",
   "metadata": {},
   "source": [
    "# Data Preparation for test Data"
   ]
  },
  {
   "cell_type": "code",
   "execution_count": 14,
   "id": "2de98cea",
   "metadata": {},
   "outputs": [],
   "source": [
    "test = test.drop(labels=[\"Loan_ID\"],axis=1)\n",
    "\n",
    "from sklearn.preprocessing import StandardScaler\n",
    "cat = []\n",
    "con = []\n",
    "for i in test.columns:\n",
    "    if(test[i].dtypes == \"object\"):\n",
    "        cat.append(i)\n",
    "    else:\n",
    "        con.append(i)\n",
    "\n",
    "ss = StandardScaler()\n",
    "X1 = pd.DataFrame(ss.fit_transform(test[con]),columns=con)\n",
    "X2 = pd.get_dummies(test[cat])\n",
    "\n",
    "Xpred = X1.join(X2)"
   ]
  },
  {
   "cell_type": "markdown",
   "id": "ddb6c9b9",
   "metadata": {},
   "source": [
    "# Check whether you have same columns in Xnew and Xpred"
   ]
  },
  {
   "cell_type": "code",
   "execution_count": 15,
   "id": "5e289f87",
   "metadata": {},
   "outputs": [
    {
     "data": {
      "text/plain": [
       "(614, 20)"
      ]
     },
     "execution_count": 15,
     "metadata": {},
     "output_type": "execute_result"
    }
   ],
   "source": [
    "Xnew.shape"
   ]
  },
  {
   "cell_type": "code",
   "execution_count": 16,
   "id": "487c657a",
   "metadata": {},
   "outputs": [
    {
     "data": {
      "text/plain": [
       "(367, 20)"
      ]
     },
     "execution_count": 16,
     "metadata": {},
     "output_type": "execute_result"
    }
   ],
   "source": [
    "Xpred.shape\n"
   ]
  },
  {
   "cell_type": "markdown",
   "id": "06b739f8",
   "metadata": {},
   "source": [
    "# Predictions"
   ]
  },
  {
   "cell_type": "code",
   "execution_count": 17,
   "id": "89287cb3",
   "metadata": {},
   "outputs": [],
   "source": [
    "test[\"Predicted_Loan_Status\"]=model.predict(Xpred)"
   ]
  },
  {
   "cell_type": "markdown",
   "id": "0308d62d",
   "metadata": {},
   "source": [
    "# Problem_Statment 2: People whose loan got rejected, find how much can get approve"
   ]
  },
  {
   "cell_type": "markdown",
   "id": "bede2fc8",
   "metadata": {},
   "source": [
    "# Find out whose loan got rejected from test data"
   ]
  },
  {
   "cell_type": "code",
   "execution_count": 18,
   "id": "afbfdd8b",
   "metadata": {},
   "outputs": [],
   "source": [
    "rejects = test[test.Predicted_Loan_Status == \"N\"]"
   ]
  },
  {
   "cell_type": "markdown",
   "id": "864be429",
   "metadata": {},
   "source": [
    "# Prepare training Data"
   ]
  },
  {
   "cell_type": "code",
   "execution_count": 19,
   "id": "6d595cdb",
   "metadata": {},
   "outputs": [],
   "source": [
    "Xnew1 = test[test.Predicted_Loan_Status == \"Y\"]\n",
    "Xnew2 = train[train.Loan_Status == \"Y\"]"
   ]
  },
  {
   "cell_type": "code",
   "execution_count": 20,
   "id": "7fd1955f",
   "metadata": {},
   "outputs": [
    {
     "data": {
      "text/plain": [
       "(303, 12)"
      ]
     },
     "execution_count": 20,
     "metadata": {},
     "output_type": "execute_result"
    }
   ],
   "source": [
    "Xnew1.shape"
   ]
  },
  {
   "cell_type": "code",
   "execution_count": 21,
   "id": "d2af6b0d",
   "metadata": {},
   "outputs": [
    {
     "data": {
      "text/plain": [
       "(422, 13)"
      ]
     },
     "execution_count": 21,
     "metadata": {},
     "output_type": "execute_result"
    }
   ],
   "source": [
    "Xnew2.shape"
   ]
  },
  {
   "cell_type": "code",
   "execution_count": 22,
   "id": "05ae9ae1",
   "metadata": {},
   "outputs": [
    {
     "data": {
      "text/plain": [
       "Index(['Gender', 'Married', 'Dependents', 'Education', 'Self_Employed',\n",
       "       'ApplicantIncome', 'CoapplicantIncome', 'LoanAmount',\n",
       "       'Loan_Amount_Term', 'Credit_History', 'Property_Area',\n",
       "       'Predicted_Loan_Status'],\n",
       "      dtype='object')"
      ]
     },
     "execution_count": 22,
     "metadata": {},
     "output_type": "execute_result"
    }
   ],
   "source": [
    "Xnew1.columns"
   ]
  },
  {
   "cell_type": "code",
   "execution_count": 23,
   "id": "01cab4d8",
   "metadata": {},
   "outputs": [
    {
     "data": {
      "text/plain": [
       "Index(['Loan_ID', 'Gender', 'Married', 'Dependents', 'Education',\n",
       "       'Self_Employed', 'ApplicantIncome', 'CoapplicantIncome', 'LoanAmount',\n",
       "       'Loan_Amount_Term', 'Credit_History', 'Property_Area', 'Loan_Status'],\n",
       "      dtype='object')"
      ]
     },
     "execution_count": 23,
     "metadata": {},
     "output_type": "execute_result"
    }
   ],
   "source": [
    "Xnew2.columns"
   ]
  },
  {
   "cell_type": "code",
   "execution_count": 24,
   "id": "cb48df42",
   "metadata": {},
   "outputs": [],
   "source": [
    "Xnew2 = Xnew2.drop(labels=[\"Loan_ID\"],axis=1)"
   ]
  },
  {
   "cell_type": "code",
   "execution_count": 25,
   "id": "18a70ca5",
   "metadata": {},
   "outputs": [],
   "source": [
    "Xnew1.columns = Xnew2.columns"
   ]
  },
  {
   "cell_type": "code",
   "execution_count": 26,
   "id": "03b537b5",
   "metadata": {},
   "outputs": [],
   "source": [
    "Xnew = pd.concat([Xnew1,Xnew2])"
   ]
  },
  {
   "cell_type": "code",
   "execution_count": 27,
   "id": "6abeffe2",
   "metadata": {},
   "outputs": [
    {
     "data": {
      "text/plain": [
       "(725, 12)"
      ]
     },
     "execution_count": 27,
     "metadata": {},
     "output_type": "execute_result"
    }
   ],
   "source": [
    "Xnew.shape"
   ]
  },
  {
   "cell_type": "code",
   "execution_count": 28,
   "id": "8f458e7f",
   "metadata": {},
   "outputs": [],
   "source": [
    "Xnew.index = range(0,725,1)"
   ]
  },
  {
   "cell_type": "code",
   "execution_count": 29,
   "id": "1c326a07",
   "metadata": {},
   "outputs": [],
   "source": [
    "Y = Xnew[[\"LoanAmount\"]]\n",
    "X = Xnew.drop(labels=[\"LoanAmount\"],axis=1)"
   ]
  },
  {
   "cell_type": "code",
   "execution_count": 30,
   "id": "1acd2824",
   "metadata": {},
   "outputs": [],
   "source": [
    "def preprocessing(df):\n",
    "    import pandas as pd\n",
    "    cat = []\n",
    "    con = []\n",
    "    for i in df.columns:\n",
    "        if(df[i].dtypes == \"object\"):\n",
    "            cat.append(i)\n",
    "        else:\n",
    "            con.append(i)\n",
    "    X1 = pd.get_dummies(df[cat])\n",
    "    from sklearn.preprocessing import StandardScaler\n",
    "    ss = StandardScaler()\n",
    "    X2 = pd.DataFrame(ss.fit_transform(df[con]),columns=con)\n",
    "    X3 = X2.join(X1)\n",
    "    return X3\n"
   ]
  },
  {
   "cell_type": "code",
   "execution_count": 31,
   "id": "8ea563aa",
   "metadata": {},
   "outputs": [],
   "source": [
    "X = preprocessing(X)"
   ]
  },
  {
   "cell_type": "code",
   "execution_count": 32,
   "id": "a62e97fc",
   "metadata": {},
   "outputs": [],
   "source": [
    "replacer(X)\n",
    "replacer(Y)"
   ]
  },
  {
   "cell_type": "markdown",
   "id": "f247c93d",
   "metadata": {},
   "source": [
    "# Regression model"
   ]
  },
  {
   "cell_type": "code",
   "execution_count": 33,
   "id": "47846d7c",
   "metadata": {},
   "outputs": [],
   "source": [
    "from sklearn.tree import DecisionTreeRegressor\n",
    "from sklearn.ensemble import AdaBoostRegressor"
   ]
  },
  {
   "cell_type": "code",
   "execution_count": 34,
   "id": "0aad93d3",
   "metadata": {},
   "outputs": [],
   "source": [
    "dtr = DecisionTreeRegressor(random_state=21)\n",
    "abr = AdaBoostRegressor(dtr,random_state=21,n_estimators=30)\n",
    "model = abr.fit(X,Y)"
   ]
  },
  {
   "cell_type": "markdown",
   "id": "3ab0ecd5",
   "metadata": {},
   "source": [
    "# Predictions"
   ]
  },
  {
   "cell_type": "code",
   "execution_count": 35,
   "id": "09f4bd04",
   "metadata": {},
   "outputs": [
    {
     "data": {
      "text/plain": [
       "array([ 72.        , 370.        , 168.        , 100.        ,\n",
       "        74.        , 115.        ,  53.        , 175.        ,\n",
       "       103.        , 120.        , 115.        , 137.        ,\n",
       "       140.        , 185.        , 175.        ,  75.        ,\n",
       "        50.        ,  98.        ,  47.        , 180.        ,\n",
       "       113.        , 360.        , 259.        , 176.        ,\n",
       "       150.        , 177.        ,  50.        ,  98.        ,\n",
       "        65.        ,  48.        ,  98.        , 104.        ,\n",
       "        98.        , 150.        , 108.        , 200.        ,\n",
       "        90.        , 187.        , 146.41216216, 187.        ,\n",
       "       185.        ,  47.        , 125.        , 296.        ,\n",
       "       118.        ,  96.        , 114.        , 110.        ,\n",
       "        98.        , 120.        , 254.        , 246.        ,\n",
       "       115.        , 120.        , 120.        ,  47.        ,\n",
       "       182.        , 106.        ,  48.        ,  97.        ,\n",
       "       144.        , 142.        , 184.        , 157.        ])"
      ]
     },
     "execution_count": 35,
     "metadata": {},
     "output_type": "execute_result"
    }
   ],
   "source": [
    "rejects.drop(labels=[\"LoanAmount\"],inplace=True,axis=1)\n",
    "rejects.index = range(0,64,1)\n",
    "replacer(rejects)\n",
    "Xtest = preprocessing(rejects)\n",
    "model.predict(Xtest)"
   ]
  }
 ],
 "metadata": {
  "kernelspec": {
   "display_name": "Python 3",
   "language": "python",
   "name": "python3"
  },
  "language_info": {
   "codemirror_mode": {
    "name": "ipython",
    "version": 3
   },
   "file_extension": ".py",
   "mimetype": "text/x-python",
   "name": "python",
   "nbconvert_exporter": "python",
   "pygments_lexer": "ipython3",
   "version": "3.8.8"
  }
 },
 "nbformat": 4,
 "nbformat_minor": 5
}
